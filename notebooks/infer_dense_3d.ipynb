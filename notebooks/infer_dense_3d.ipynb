{
 "cells": [
  {
   "cell_type": "code",
   "execution_count": null,
   "metadata": {},
   "outputs": [],
   "source": [
    "%load_ext autoreload\n",
    "%autoreload 2\n",
    "%cd ..\n",
    "\n",
    "import os\n",
    "os.environ[\"CUDA_VISIBLE_DEVICES\"] = \"0\""
   ]
  },
  {
   "cell_type": "code",
   "execution_count": 2,
   "metadata": {},
   "outputs": [],
   "source": [
    "import hydra\n",
    "import numpy as np\n",
    "import mediapy as media\n",
    "from einops import rearrange\n",
    "from tqdm import tqdm\n",
    "import cv2\n",
    "\n",
    "import torch\n",
    "import torch.nn as nn\n",
    "import torch.nn.functional as F\n",
    "from omegaconf import OmegaConf\n",
    "import logging\n",
    "import pickle\n",
    "\n",
    "from densetrack3d.models.geometry_utils import least_square_align\n",
    "\n",
    "from densetrack3d.datasets.custom_data import read_data, read_data_with_depthcrafter\n",
    "\n",
    "# from densetrack3d.models.densetrack3d.densetrack3d import DenseTrack3D\n",
    "from densetrack3d.models.densetrack3d.densetrack3d import DenseTrack3D\n",
    "\n",
    "from densetrack3d.utils.visualizer import Visualizer, flow_to_rgb\n",
    "\n",
    "\n",
    "\n",
    "from densetrack3d.models.model_utils import (\n",
    "    smart_cat, \n",
    "    get_points_on_a_grid, \n",
    "    bilinear_sample2d,\n",
    "    get_grid,\n",
    "    bilinear_sampler,\n",
    "    reduce_masked_mean\n",
    ")\n",
    "\n",
    "from densetrack3d.models.predictor.dense_predictor import DensePredictor3D\n",
    "\n",
    "\n"
   ]
  },
  {
   "cell_type": "code",
   "execution_count": 3,
   "metadata": {},
   "outputs": [
    {
     "name": "stderr",
     "output_type": "stream",
     "text": [
      "/tmp/ipykernel_2140203/3482647144.py:18: FutureWarning: You are using `torch.load` with `weights_only=False` (the current default value), which uses the default pickle module implicitly. It is possible to construct malicious pickle data which will execute arbitrary code during unpickling (See https://github.com/pytorch/pytorch/blob/main/SECURITY.md#untrusted-models for more details). In a future release, the default value for `weights_only` will be flipped to `True`. This limits the functions that could be executed during unpickling. Arbitrary objects will no longer be allowed to be loaded via this mode unless they are explicitly allowlisted by the user via `torch.serialization.add_safe_globals`. We recommend you start setting `weights_only=True` for any use case where you don't have full control of the loaded file. Please open an issue on GitHub for any issues related to this experimental feature.\n",
      "  state_dict = torch.load(f, map_location=\"cpu\")\n"
     ]
    }
   ],
   "source": [
    "checkpoint = \"checkpoints/densetrack3d.pth\"\n",
    "\n",
    "model = DenseTrack3D(\n",
    "    stride=4,\n",
    "    window_len=16,\n",
    "    add_space_attn=True,\n",
    "    num_virtual_tracks=64,\n",
    "    model_resolution=(384, 512),\n",
    ")\n",
    "\n",
    "\n",
    "with open(checkpoint, \"rb\") as f:\n",
    "    state_dict = torch.load(f, map_location=\"cpu\")\n",
    "    if \"model\" in state_dict:\n",
    "        state_dict = state_dict[\"model\"]\n",
    "model.load_state_dict(state_dict, strict=False)\n",
    "\n",
    "predictor = DensePredictor3D(model=model)\n",
    "predictor = predictor.eval().cuda()"
   ]
  },
  {
   "cell_type": "code",
   "execution_count": 4,
   "metadata": {},
   "outputs": [],
   "source": [
    "vis = Visualizer(\n",
    "    save_dir=\"results/test\",\n",
    "    fps=7,\n",
    "    show_first_frame=0,\n",
    "    linewidth=1\n",
    ")"
   ]
  },
  {
   "cell_type": "code",
   "execution_count": 5,
   "metadata": {},
   "outputs": [],
   "source": [
    "vid_names = [\"rollerblade\"]"
   ]
  },
  {
   "cell_type": "code",
   "execution_count": null,
   "metadata": {},
   "outputs": [],
   "source": [
    "\n",
    "save_dir = \"results/demo/\"\n",
    "os.makedirs(save_dir, exist_ok=True)\n",
    "\n",
    "for vid_name in vid_names:\n",
    "    \n",
    "    video, videodepth, videodisp = read_data_with_depthcrafter(\"demo_data\", vid_name)\n",
    "\n",
    "    if videodisp is not None:\n",
    "        videodepth = least_square_align(videodepth, videodisp)\n",
    "\n",
    "    video = torch.from_numpy(video).permute(0,3,1,2).cuda()[None].float()\n",
    "    videodepth = torch.from_numpy(videodepth).unsqueeze(1).cuda()[None].float()\n",
    "\n",
    "\n",
    "    H, W = video.shape[-2:]\n",
    "\n",
    "    out_dict = predictor(\n",
    "        video,\n",
    "        videodepth,\n",
    "        grid_query_frame=0,\n",
    "    )\n",
    "\n",
    "\n",
    "    trajs_3d_dict = {k: v[0].cpu().numpy() for k, v in out_dict[\"trajs_3d_dict\"].items()}\n",
    "    \n",
    "    with open(os.path.join(save_dir, f\"{vid_name}.pkl\"), \"wb\") as handle:\n",
    "        pickle.dump(trajs_3d_dict, handle, protocol=pickle.HIGHEST_PROTOCOL)\n"
   ]
  }
 ],
 "metadata": {
  "kernelspec": {
   "display_name": "track",
   "language": "python",
   "name": "python3"
  },
  "language_info": {
   "codemirror_mode": {
    "name": "ipython",
    "version": 3
   },
   "file_extension": ".py",
   "mimetype": "text/x-python",
   "name": "python",
   "nbconvert_exporter": "python",
   "pygments_lexer": "ipython3",
   "version": "3.10.13"
  }
 },
 "nbformat": 4,
 "nbformat_minor": 2
}
